{
 "cells": [
  {
   "cell_type": "code",
   "execution_count": null,
   "id": "5236eaba-f6a9-4322-88de-be7ec500513d",
   "metadata": {},
   "outputs": [],
   "source": [
    "import openai\n",
    "import json\n",
    "client = openai.OpenAI()"
   ]
  },
  {
   "cell_type": "markdown",
   "id": "0b3851a0-cba0-41d4-a058-59a0178453b5",
   "metadata": {},
   "source": [
    "## json_object"
   ]
  },
  {
   "cell_type": "code",
   "execution_count": 6,
   "id": "c2c564aa-7548-431b-856b-62f46b677338",
   "metadata": {},
   "outputs": [
    {
     "name": "stdout",
     "output_type": "stream",
     "text": [
      "{'name': '李四', 'address': '杭州西湖区xx路18号', 'phoneNumber': '19876496862', 'interests': '钓鱼'}\n"
     ]
    }
   ],
   "source": [
    "import openai\n",
    "import json\n",
    "client = openai.OpenAI()\n",
    "\n",
    "system_prompt = \"\"\"\n",
    "请提取出内容中的姓名，地址，手机号，兴趣爱好，对应的字段名分别是‘name’，‘address’，‘phoneNumber’，‘interests’。\n",
    "用json字符串返回，格式参考下面这个json\n",
    "{\n",
    "   \"name\":\"张三\",\n",
    "   \"addres\":\"北京市朝阳区大望路108号\",\n",
    "   \"phoneNumber\":\"17000098734\",\n",
    "   \"interests\":\"打游戏\"\n",
    "}\n",
    "\"\"\"\n",
    "\n",
    "user_prompt = \"我叫李四，家住在杭州西湖区xx路18号，我的手机号是19876496862，我平时喜欢钓鱼。\"\n",
    "\n",
    "messages = [{\"role\": \"system\", \"content\": system_prompt},\n",
    "            {\"role\": \"user\", \"content\": user_prompt}]\n",
    "\n",
    "response = client.chat.completions.create(\n",
    "    model=\"gpt-4o-mini\",\n",
    "    messages=messages,\n",
    "    response_format={\n",
    "        'type': 'json_object'\n",
    "    }\n",
    ")\n",
    "\n",
    "print(json.loads(response.choices[0].message.content))"
   ]
  },
  {
   "cell_type": "markdown",
   "id": "43749986-2a35-4105-9242-174e3ea530a0",
   "metadata": {},
   "source": [
    "## json_schema\n",
    "参考[https://platform.openai.com/docs/guides/structured-outputs/introduction](https://platform.openai.com/docs/guides/structured-outputs/introduction)"
   ]
  },
  {
   "cell_type": "code",
   "execution_count": 4,
   "id": "b2309e7a-c6cd-46fb-af04-4cfb6930c6ce",
   "metadata": {},
   "outputs": [
    {
     "name": "stdout",
     "output_type": "stream",
     "text": [
      "{'name': '李四', 'address': '杭州西湖区xx路18号', 'phoneNumber': '19876496862'}\n"
     ]
    }
   ],
   "source": [
    "system_prompt = \"\"\"\n",
    "请提取出内容中的姓名，地址，手机号\n",
    "\n",
    "\"\"\"\n",
    "\n",
    "user_prompt = \"我叫李四，家住在杭州西湖区xx路18号，我的手机号是19876496862，我平时喜欢钓鱼。\"\n",
    "\n",
    "messages = [{\"role\": \"system\", \"content\": system_prompt},\n",
    "            {\"role\": \"user\", \"content\": user_prompt}]\n",
    "\n",
    "response = client.chat.completions.create(\n",
    "    model=\"gpt-4o-mini\",\n",
    "    messages=messages,\n",
    "    response_format={\n",
    "        \"type\": \"json_schema\",\n",
    "        \"json_schema\":{\n",
    "            \"name\": \"my_schema\",\n",
    "            \"schema\": {\n",
    "                \"type\": \"object\",\n",
    "                \"properties\": {\n",
    "                    \"name\": {\n",
    "                        \"type\": \"string\",\n",
    "                        \"description\":\"姓名\"\n",
    "                    },\n",
    "                    \"address\": {\n",
    "                        \"type\": \"string\",\n",
    "                        \"description\":\"地址\"\n",
    "                    },\n",
    "                    \"phoneNumber\": {\n",
    "                        \"type\": \"string\",\n",
    "                        \"description\":\"11位的手机号\"\n",
    "                    }\n",
    "                },\n",
    "                \"required\": [\"name\", \"address\", \"phoneNumber\"],\n",
    "                \"additionalProperties\": False\n",
    "            },\n",
    "            \"strict\": True\n",
    "        }\n",
    "    }\n",
    ")\n",
    "\n",
    "print(json.loads(response.choices[0].message.content))\n"
   ]
  },
  {
   "cell_type": "code",
   "execution_count": null,
   "id": "91487baa-d1d5-412b-9dc5-3b7073cb1520",
   "metadata": {},
   "outputs": [],
   "source": []
  }
 ],
 "metadata": {
  "kernelspec": {
   "display_name": "Python 3 (ipykernel)",
   "language": "python",
   "name": "python3"
  },
  "language_info": {
   "codemirror_mode": {
    "name": "ipython",
    "version": 3
   },
   "file_extension": ".py",
   "mimetype": "text/x-python",
   "name": "python",
   "nbconvert_exporter": "python",
   "pygments_lexer": "ipython3",
   "version": "3.12.4"
  }
 },
 "nbformat": 4,
 "nbformat_minor": 5
}
